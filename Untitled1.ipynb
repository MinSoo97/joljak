{
 "cells": [
  {
   "cell_type": "code",
   "execution_count": 6,
   "id": "6cdc00a5",
   "metadata": {},
   "outputs": [
    {
     "name": "stdout",
     "output_type": "stream",
     "text": [
      "4.5.1\n"
     ]
    }
   ],
   "source": [
    " import cv2\n",
    "import numpy as np\n",
    "import matplotlib.pyplot as plt\n",
    "import pytesseract\n",
    "plt.style.use('dark_background')\n",
    "print(cv2.__version__)"
   ]
  },
  {
   "cell_type": "code",
   "execution_count": 10,
   "id": "b1c3b409",
   "metadata": {},
   "outputs": [
    {
     "name": "stdout",
     "output_type": "stream",
     "text": [
      "2 49 28 62 52 0\n",
      "1 65 29 75 52 0\n",
      ". 81 32 86 38 0\n",
      "0 91 31 103 55 0\n",
      "5 105 31 117 55 0\n",
      ". 122 35 128 41 0\n",
      "0 133 33 144 57 0\n",
      "6 148 34 158 58 0\n",
      "3 174 35 186 58 0\n",
      "L 201 22 214 84 0\n",
      "\n",
      "21.05.06\n"
     ]
    },
    {
     "data": {
      "text/plain": [
       "-1"
      ]
     },
     "execution_count": 10,
     "metadata": {},
     "output_type": "execute_result"
    }
   ],
   "source": [
    "img_ori = cv2.imread('capture2.jpg')\n",
    "\n",
    "\n",
    "gray = cv2.cvtColor(img_ori,cv2.COLOR_BGR2GRAY)\n",
    "\n",
    "structuringElement = cv2.getStructuringElement(cv2.MORPH_RECT, (3, 3))\n",
    "\n",
    "imgTopHat = cv2.morphologyEx(gray, cv2.MORPH_TOPHAT, structuringElement)\n",
    "imgBlackHat = cv2.morphologyEx(gray, cv2.MORPH_BLACKHAT, structuringElement)\n",
    "\n",
    "imgGrayscalePlusTopHat = cv2.add(gray, imgTopHat)\n",
    "gray = cv2.subtract(imgGrayscalePlusTopHat, imgBlackHat)\n",
    "\n",
    "img_blurred = cv2.GaussianBlur(gray, ksize=(9, 9), sigmaX=0)\n",
    "\n",
    "img_thresh = cv2.adaptiveThreshold(\n",
    "    img_blurred, \n",
    "    maxValue=255.0, \n",
    "    adaptiveMethod=cv2.ADAPTIVE_THRESH_GAUSSIAN_C, \n",
    "    thresholdType=cv2.THRESH_BINARY_INV, \n",
    "    blockSize=19, \n",
    "    C=9\n",
    ")\n",
    "print(pytesseract.image_to_boxes(img_thresh))\n",
    "\n",
    "##detecting characters\n",
    "\n",
    "hImg,wImg,_ = img_ori.shape\n",
    "\n",
    "boxes = pytesseract.image_to_boxes(img_thresh)\n",
    "ED = ''\n",
    "for b in boxes.splitlines():\n",
    "    #print(b)\n",
    "    b= b.split(' ')\n",
    "    x,y,w,h = int(b[1]),int(b[2]),int(b[3]),int(b[4])\n",
    "    cv2.rectangle(img_ori,(x,hImg-y),(w,hImg-h),(0,0,255),1)\n",
    "    cv2.putText(img_ori,b[0],(x,hImg-y+25),cv2.FONT_HERSHEY_COMPLEX,1,(50,50,255),1)\n",
    "    ED += b[0]\n",
    "if ED[0]=='2':\n",
    "    print(ED[:8])\n",
    "cv2.imshow('Result',img_ori)\n",
    "cv2.waitKey(0)\n",
    "\n"
   ]
  },
  {
   "cell_type": "code",
   "execution_count": null,
   "id": "48c96b02",
   "metadata": {},
   "outputs": [],
   "source": []
  }
 ],
 "metadata": {
  "kernelspec": {
   "display_name": "Python 3",
   "language": "python",
   "name": "python3"
  },
  "language_info": {
   "codemirror_mode": {
    "name": "ipython",
    "version": 3
   },
   "file_extension": ".py",
   "mimetype": "text/x-python",
   "name": "python",
   "nbconvert_exporter": "python",
   "pygments_lexer": "ipython3",
   "version": "3.6.9"
  }
 },
 "nbformat": 4,
 "nbformat_minor": 5
}
