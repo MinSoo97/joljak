{
 "cells": [
  {
   "cell_type": "code",
   "execution_count": 1,
   "metadata": {},
   "outputs": [
    {
     "name": "stdout",
     "output_type": "stream",
     "text": [
      "4.5.1\n"
     ]
    }
   ],
   "source": [
    "import cv2\n",
    "import numpy as np\n",
    "import datetime\n",
    "from matplotlib import pyplot as plt\n",
    "\n",
    "print(cv2.__version__)"
   ]
  },
  {
   "cell_type": "code",
   "execution_count": 3,
   "metadata": {
    "scrolled": true
   },
   "outputs": [
    {
     "ename": "KeyboardInterrupt",
     "evalue": "",
     "output_type": "error",
     "traceback": [
      "\u001b[1;31m---------------------------------------------------------------------------\u001b[0m",
      "\u001b[1;31mKeyboardInterrupt\u001b[0m                         Traceback (most recent call last)",
      "\u001b[1;32m<ipython-input-3-a3371b1209c7>\u001b[0m in \u001b[0;36m<module>\u001b[1;34m\u001b[0m\n\u001b[0;32m     69\u001b[0m    \u001b[1;31m# print(net.getUnconnectedOutLayers())\u001b[0m\u001b[1;33m\u001b[0m\u001b[1;33m\u001b[0m\u001b[1;33m\u001b[0m\u001b[0m\n\u001b[0;32m     70\u001b[0m \u001b[1;33m\u001b[0m\u001b[0m\n\u001b[1;32m---> 71\u001b[1;33m     \u001b[0moutputs\u001b[0m \u001b[1;33m=\u001b[0m \u001b[0mnet\u001b[0m\u001b[1;33m.\u001b[0m\u001b[0mforward\u001b[0m\u001b[1;33m(\u001b[0m\u001b[0moutputNames\u001b[0m\u001b[1;33m)\u001b[0m\u001b[1;33m\u001b[0m\u001b[1;33m\u001b[0m\u001b[0m\n\u001b[0m\u001b[0;32m     72\u001b[0m     \u001b[1;31m#print(outputs[0].shape)\u001b[0m\u001b[1;33m\u001b[0m\u001b[1;33m\u001b[0m\u001b[1;33m\u001b[0m\u001b[0m\n\u001b[0;32m     73\u001b[0m     \u001b[1;31m#print(outputs[1].shape)\u001b[0m\u001b[1;33m\u001b[0m\u001b[1;33m\u001b[0m\u001b[1;33m\u001b[0m\u001b[0m\n",
      "\u001b[1;31mKeyboardInterrupt\u001b[0m: "
     ]
    }
   ],
   "source": [
    "cap = cv2.VideoCapture(0)\n",
    "whT = 320\n",
    "confThreshold = 0.5\n",
    "nmsThreshold = 0.3\n",
    "a=0\n",
    "classesFile = 'obj.names'\n",
    "classNames = []\n",
    "\n",
    "with open(classesFile, 'rt') as f:\n",
    "    classNames = f.read().rstrip('\\n').split('\\n')\n",
    "    \n",
    "#print(classNames)\n",
    "#print(len(classNames))\n",
    "\n",
    "modelConfiguration= 'yolov3_ED.cfg'\n",
    "modelWeights= 'yolov3_best.weights'\n",
    "\n",
    "net = cv2.dnn.readNetFromDarknet(modelConfiguration,modelWeights)\n",
    "net.setPreferableBackend(cv2.dnn.DNN_BACKEND_OPENCV)\n",
    "net.setPreferableTarget(cv2.dnn.DNN_TARGET_CPU)\n",
    "\n",
    "def findObjects(outputs,img):\n",
    "    hT, wT, cT, = img.shape\n",
    "    bbox= []\n",
    "    classIds = []\n",
    "    confs = []\n",
    " #   now = datetime.datetime.now().strftime(\"%d_%H_%M_%S\")\n",
    " #   frame= cap.read()\n",
    "    \n",
    "    for output in outputs:\n",
    "        for det in output:\n",
    "            scores = det[5:]\n",
    "            classId= np.argmax(scores)\n",
    "            confidence = scores[classId]\n",
    "            if confidence > confThreshold:\n",
    "                w,h = int(det[2]*wT), int(det[3]*hT)\n",
    "                x,y = int((det[0]*wT)-w/2), int((det[1]*hT)-h/2)\n",
    "                bbox.append([x,y,w,h])\n",
    "                classIds.append(classId)\n",
    "                confs.append(float(confidence))\n",
    "    #print(len(bbox))\n",
    "    indices = cv2.dnn.NMSBoxes(bbox,confs,confThreshold,nmsThreshold)\n",
    "    #print(indices)\n",
    "    for i in indices:\n",
    "        i = i[0]\n",
    "        box = bbox[i]\n",
    "        x,y,w,h = box[0],box[1],box[2],box[3]\n",
    "        cv2.rectangle(img,(x,y),(x+w,y+h),(255,0,255),2)\n",
    "        cv2.putText(img,f'{classNames[classIds[i]].upper()} {int(confs[i]*100)}%', (x,y-10),cv2.FONT_HERSHEY_SIMPLEX,0.6,(255,0,255),2)\n",
    "        #ED_pic = frame[x:x+h, y:y+w]\n",
    "       # plt.imshow(ED_pic)\n",
    "       # plt.show\n",
    "       \n",
    "        #print(classNames[classIds[i]].upper())\n",
    "        if indices == [[0]]:\n",
    "            \n",
    "            \n",
    "\n",
    "while True:\n",
    "    success, img = cap.read()\n",
    "    \n",
    "    blob = cv2.dnn.blobFromImage(img,1/255,(whT,whT),[0,0,0],1,crop=False)\n",
    "    net.setInput(blob)\n",
    "    \n",
    "    layerNames = net.getLayerNames()\n",
    "   # print(layerNames)\n",
    "    outputNames = [layerNames[i[0]-1] for i in net.getUnconnectedOutLayers()]\n",
    "    #print(outputNames) \n",
    "   # print(net.getUnconnectedOutLayers())\n",
    "\n",
    "    outputs = net.forward(outputNames)\n",
    "    #print(outputs[0].shape)\n",
    "    #print(outputs[1].shape)\n",
    "    #print(outputs[2].shape)\n",
    "    #print(outputs[0][0])\n",
    "    \n",
    "    findObjects(outputs,img)\n",
    "    if a == -1 :\n",
    "        ret,frame = cap.read()\n",
    "        ED_pic = img[x:x+h, y:y+w]\n",
    "        plt.imshow(ED_pic)\n",
    "        plt.show\n",
    "        break\n",
    "    cv2.imshow('Img',img)\n",
    "    cv2.waitKey(1)\n",
    "    "
   ]
  },
  {
   "cell_type": "markdown",
   "metadata": {},
   "source": [
    "# "
   ]
  },
  {
   "cell_type": "code",
   "execution_count": null,
   "metadata": {},
   "outputs": [],
   "source": []
  }
 ],
 "metadata": {
  "kernelspec": {
   "display_name": "Python 3",
   "language": "python",
   "name": "python3"
  },
  "language_info": {
   "codemirror_mode": {
    "name": "ipython",
    "version": 3
   },
   "file_extension": ".py",
   "mimetype": "text/x-python",
   "name": "python",
   "nbconvert_exporter": "python",
   "pygments_lexer": "ipython3",
   "version": "3.6.9"
  }
 },
 "nbformat": 4,
 "nbformat_minor": 4
}
