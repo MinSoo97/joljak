{
 "cells": [
  {
   "cell_type": "code",
   "execution_count": 1,
   "id": "741e152a",
   "metadata": {},
   "outputs": [
    {
     "name": "stdout",
     "output_type": "stream",
     "text": [
      "4.5.1\n"
     ]
    }
   ],
   "source": [
    "__author__ = 'Kang'\n",
    "import cv2\n",
    "print(cv2.__version__)"
   ]
  },
  {
   "cell_type": "code",
   "execution_count": null,
   "id": "fd86c996",
   "metadata": {},
   "outputs": [],
   "source": [
    "# 영상의 의미지를 연속적으로 캡쳐할 수 있게 하는 class\n",
    "vidcap = cv2.VideoCapture('영상 경로')\n",
    " \n",
    "count = 0\n",
    " \n",
    "while(vidcap.isOpened()):\n",
    "    ret, image = vidcap.read()\n",
    " \n",
    "    cv2.imwrite(\"framecapture/frame_%d.jpg\" % count, image)\n",
    "    print('Saved frame%d.jpg' % count)\n",
    "    count += 1\n",
    " \n",
    "vidcap.release()"
   ]
  }
 ],
 "metadata": {
  "kernelspec": {
   "display_name": "Python 3",
   "language": "python",
   "name": "python3"
  },
  "language_info": {
   "codemirror_mode": {
    "name": "ipython",
    "version": 3
   },
   "file_extension": ".py",
   "mimetype": "text/x-python",
   "name": "python",
   "nbconvert_exporter": "python",
   "pygments_lexer": "ipython3",
   "version": "3.6.9"
  }
 },
 "nbformat": 4,
 "nbformat_minor": 5
}
