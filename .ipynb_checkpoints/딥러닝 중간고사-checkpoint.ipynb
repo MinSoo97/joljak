{
 "cells": [
  {
   "cell_type": "code",
   "execution_count": 23,
   "id": "d268ec4f",
   "metadata": {},
   "outputs": [],
   "source": [
    "import numpy as np\n",
    "import csv\n",
    "import time\n",
    "\n",
    "np.random.seed(1234)\n",
    "def randomize(): np.random.seed(time.time())"
   ]
  },
  {
   "cell_type": "code",
   "execution_count": 11,
   "id": "43e5ea4c",
   "metadata": {},
   "outputs": [],
   "source": [
    "RND_MEAN = 0\n",
    "RND_STD = 0.0030\n",
    "\n",
    "LEARNING_RATE = 0.001"
   ]
  },
  {
   "cell_type": "code",
   "execution_count": null,
   "id": "64c58614",
   "metadata": {},
   "outputs": [],
   "source": [
    "def load_abalone_dataset():\n",
    "    with open('../../data/chap01/abalone.csv') as csvfile:\n",
    "        csvreader = csv.reader(csvfile)\n",
    "        next(csvreader, None)\n",
    "        rows = []\n",
    "        for row in csvreader:\n",
    "            rows.append(row)\n",
    "            \n",
    "    global data, input_cnt, output_cnt\n",
    "    input_cnt, output_cnt = 10, 1\n",
    "    data = np.zeros([len(rows), input_cnt+output_cnt])\n",
    "\n",
    "    for n, row in enumerate(rows):\n",
    "        if row[0] == 'I': data[n, 0] = 1\n",
    "        if row[0] == 'M': data[n, 1] = 1\n",
    "        if row[0] == 'F': data[n, 2] = 1\n",
    "        data[n, 3:] = row[1:]"
   ]
  },
  {
   "cell_type": "code",
   "execution_count": 12,
   "id": "442face0",
   "metadata": {},
   "outputs": [],
   "source": [
    "def abalone_exec(epoch_count=10, mb_size=10, report=1):\n",
    "    load_abalone_dataset()\n",
    "    init_model()\n",
    "    train_and_test(epoch_count, mb_size, report)"
   ]
  },
  {
   "cell_type": "code",
   "execution_count": 13,
   "id": "82649e57",
   "metadata": {},
   "outputs": [],
   "source": [
    "def init_model_hidden1():\n",
    "    global pm_output, pm_hidden, input_cnt, output_cnt, hidden_cnt\n",
    "    \n",
    "    pm_hidden = alloc_param_pair([input_cnt, hidden_cnt])\n",
    "    pm_output = alloc_param_pair([hidden_cnt, output_cnt])\n",
    "    \n",
    "def alloc_param_pair(shape):\n",
    "    weight = np.random.normal(RND_MEAN, RND_STD, shape)\n",
    "    bias = np.zeros(shape[-1])\n",
    "    return {'w':weight, 'b':bias}"
   ]
  },
  {
   "cell_type": "code",
   "execution_count": 14,
   "id": "60abbe35",
   "metadata": {},
   "outputs": [],
   "source": [
    "def forward_neuralnet_hidden1(x):\n",
    "    global pm_output, pm_hidden\n",
    "    \n",
    "    hidden = relu(np.matmul(x, pm_hidden['w']) + pm_hidden['b'])\n",
    "    output = np.matmul(hidden, pm_output['w']) + pm_output['b']\n",
    "    \n",
    "    return output, [x, hidden]\n",
    "\n",
    "def relu(x):\n",
    "    return np.maximum(x, 0)"
   ]
  },
  {
   "cell_type": "code",
   "execution_count": 15,
   "id": "7ce1a54b",
   "metadata": {},
   "outputs": [],
   "source": [
    "def backprop_neuralnet_hidden1(G_output, aux):\n",
    "    global pm_output, pm_hidden\n",
    "    \n",
    "    x, hidden = aux\n",
    "\n",
    "    g_output_w_out = hidden.transpose()                      \n",
    "    G_w_out = np.matmul(g_output_w_out, G_output)            \n",
    "    G_b_out = np.sum(G_output, axis=0)                       \n",
    "\n",
    "    g_output_hidden = pm_output['w'].transpose()             \n",
    "    G_hidden = np.matmul(G_output, g_output_hidden)          \n",
    "\n",
    "    pm_output['w'] -= LEARNING_RATE * G_w_out                \n",
    "    pm_output['b'] -= LEARNING_RATE * G_b_out                \n",
    "    \n",
    "    G_hidden = G_hidden * relu_derv(hidden)\n",
    "    \n",
    "    g_hidden_w_hid = x.transpose()                           \n",
    "    G_w_hid = np.matmul(g_hidden_w_hid, G_hidden)            \n",
    "    G_b_hid = np.sum(G_hidden, axis=0)                       \n",
    "    \n",
    "    pm_hidden['w'] -= LEARNING_RATE * G_w_hid                \n",
    "    pm_hidden['b'] -= LEARNING_RATE * G_b_hid                \n",
    "    \n",
    "def relu_derv(y):\n",
    "    return np.sign(y)"
   ]
  },
  {
   "cell_type": "code",
   "execution_count": 16,
   "id": "fa172ce2",
   "metadata": {},
   "outputs": [],
   "source": [
    "def init_model_hiddens():\n",
    "    global pm_output, pm_hiddens, input_cnt, output_cnt, hidden_config\n",
    "    \n",
    "    pm_hiddens = []\n",
    "    prev_cnt = input_cnt\n",
    "    \n",
    "    for hidden_cnt in hidden_config:\n",
    "        pm_hiddens.append(alloc_param_pair([prev_cnt, hidden_cnt]))\n",
    "        prev_cnt = hidden_cnt\n",
    "    \n",
    "    pm_output = alloc_param_pair([prev_cnt, output_cnt])"
   ]
  },
  {
   "cell_type": "code",
   "execution_count": 17,
   "id": "4020ff3e",
   "metadata": {},
   "outputs": [],
   "source": [
    "def init_model_hiddens():\n",
    "    global pm_output, pm_hiddens, input_cnt, output_cnt, hidden_config\n",
    "    \n",
    "    pm_hiddens = []\n",
    "    prev_cnt = input_cnt\n",
    "    \n",
    "    for hidden_cnt in hidden_config:\n",
    "        pm_hiddens.append(alloc_param_pair([prev_cnt, hidden_cnt]))\n",
    "        prev_cnt = hidden_cnt\n",
    "    \n",
    "    pm_output = alloc_param_pair([prev_cnt, output_cnt])"
   ]
  },
  {
   "cell_type": "code",
   "execution_count": 18,
   "id": "d019c366",
   "metadata": {},
   "outputs": [],
   "source": [
    "def backprop_neuralnet_hiddens(G_output, aux):\n",
    "    global pm_output, pm_hiddens\n",
    "\n",
    "    hiddens = aux\n",
    "    \n",
    "    g_output_w_out = hiddens[-1].transpose()\n",
    "    G_w_out = np.matmul(g_output_w_out, G_output)\n",
    "    G_b_out = np.sum(G_output, axis=0)\n",
    "\n",
    "    g_output_hidden = pm_output['w'].transpose() \n",
    "    G_hidden = np.matmul(G_output, g_output_hidden)\n",
    "\n",
    "    pm_output['w'] -= LEARNING_RATE * G_w_out\n",
    "    pm_output['b'] -= LEARNING_RATE * G_b_out\n",
    "    \n",
    "    for n in reversed(range(len(pm_hiddens))):\n",
    "        G_hidden = G_hidden * relu_derv(hiddens[n+1])\n",
    "\n",
    "        g_hidden_w_hid = hiddens[n].transpose()\n",
    "        G_w_hid = np.matmul(g_hidden_w_hid, G_hidden)\n",
    "        G_b_hid = np.sum(G_hidden, axis=0)\n",
    "    \n",
    "        g_hidden_hidden = pm_hiddens[n]['w'].transpose()\n",
    "        G_hidden = np.matmul(G_hidden, g_hidden_hidden)\n",
    "\n",
    "        pm_hiddens[n]['w'] -= LEARNING_RATE * G_w_hid\n",
    "        pm_hiddens[n]['b'] -= LEARNING_RATE * G_b_hid"
   ]
  },
  {
   "cell_type": "code",
   "execution_count": 19,
   "id": "bb2110f6",
   "metadata": {},
   "outputs": [],
   "source": [
    "global hidden_config\n",
    "\n",
    "def init_model():\n",
    "    if hidden_config is not None:\n",
    "        print('은닉 계층 {}개를 갖는 다층 퍼셉트론이 작동되었습니다.'. \\\n",
    "              format(len(hidden_config)))\n",
    "        init_model_hiddens()\n",
    "    else:\n",
    "        print('은닉 계층 하나를 갖는 다층 퍼셉트론이 작동되었습니다.')\n",
    "        init_model_hidden1()\n",
    "    \n",
    "def forward_neuralnet(x):\n",
    "    if hidden_config is not None:\n",
    "        return forward_neuralnet_hiddens(x)\n",
    "    else:\n",
    "        return forward_neuralnet_hidden1(x)\n",
    "    \n",
    "def backprop_neuralnet(G_output, hiddens):\n",
    "    if hidden_config is not None:\n",
    "        backprop_neuralnet_hiddens(G_output, hiddens)\n",
    "    else:\n",
    "        backprop_neuralnet_hidden1(G_output, hiddens)"
   ]
  },
  {
   "cell_type": "code",
   "execution_count": 20,
   "id": "a413ef71",
   "metadata": {},
   "outputs": [],
   "source": [
    "def set_hidden(info):\n",
    "    global hidden_cnt, hidden_config\n",
    "    if isinstance(info, int):\n",
    "        hidden_cnt = info\n",
    "        hidden_config = None\n",
    "    else:\n",
    "        hidden_config = info"
   ]
  },
  {
   "cell_type": "code",
   "execution_count": 21,
   "id": "58112eb8",
   "metadata": {},
   "outputs": [
    {
     "ename": "NameError",
     "evalue": "name 'load_abalone_dataset' is not defined",
     "output_type": "error",
     "traceback": [
      "\u001b[1;31m---------------------------------------------------------------------------\u001b[0m",
      "\u001b[1;31mNameError\u001b[0m                                 Traceback (most recent call last)",
      "\u001b[1;32m<ipython-input-21-4c39d4806d09>\u001b[0m in \u001b[0;36m<module>\u001b[1;34m\u001b[0m\n\u001b[0;32m      1\u001b[0m \u001b[0mset_hidden\u001b[0m\u001b[1;33m(\u001b[0m\u001b[1;33m[\u001b[0m\u001b[1;33m]\u001b[0m\u001b[1;33m)\u001b[0m\u001b[1;33m\u001b[0m\u001b[1;33m\u001b[0m\u001b[0m\n\u001b[1;32m----> 2\u001b[1;33m \u001b[0mabalone_exec\u001b[0m\u001b[1;33m(\u001b[0m\u001b[1;33m)\u001b[0m\u001b[1;33m\u001b[0m\u001b[1;33m\u001b[0m\u001b[0m\n\u001b[0m",
      "\u001b[1;32m<ipython-input-12-387075f43e70>\u001b[0m in \u001b[0;36mabalone_exec\u001b[1;34m(epoch_count, mb_size, report)\u001b[0m\n\u001b[0;32m      1\u001b[0m \u001b[1;32mdef\u001b[0m \u001b[0mabalone_exec\u001b[0m\u001b[1;33m(\u001b[0m\u001b[0mepoch_count\u001b[0m\u001b[1;33m=\u001b[0m\u001b[1;36m10\u001b[0m\u001b[1;33m,\u001b[0m \u001b[0mmb_size\u001b[0m\u001b[1;33m=\u001b[0m\u001b[1;36m10\u001b[0m\u001b[1;33m,\u001b[0m \u001b[0mreport\u001b[0m\u001b[1;33m=\u001b[0m\u001b[1;36m1\u001b[0m\u001b[1;33m)\u001b[0m\u001b[1;33m:\u001b[0m\u001b[1;33m\u001b[0m\u001b[1;33m\u001b[0m\u001b[0m\n\u001b[1;32m----> 2\u001b[1;33m     \u001b[0mload_abalone_dataset\u001b[0m\u001b[1;33m(\u001b[0m\u001b[1;33m)\u001b[0m\u001b[1;33m\u001b[0m\u001b[1;33m\u001b[0m\u001b[0m\n\u001b[0m\u001b[0;32m      3\u001b[0m     \u001b[0minit_model\u001b[0m\u001b[1;33m(\u001b[0m\u001b[1;33m)\u001b[0m\u001b[1;33m\u001b[0m\u001b[1;33m\u001b[0m\u001b[0m\n\u001b[0;32m      4\u001b[0m     \u001b[0mtrain_and_test\u001b[0m\u001b[1;33m(\u001b[0m\u001b[0mepoch_count\u001b[0m\u001b[1;33m,\u001b[0m \u001b[0mmb_size\u001b[0m\u001b[1;33m,\u001b[0m \u001b[0mreport\u001b[0m\u001b[1;33m)\u001b[0m\u001b[1;33m\u001b[0m\u001b[1;33m\u001b[0m\u001b[0m\n",
      "\u001b[1;31mNameError\u001b[0m: name 'load_abalone_dataset' is not defined"
     ]
    }
   ],
   "source": [
    "set_hidden([])\n",
    "abalone_exec()"
   ]
  },
  {
   "cell_type": "code",
   "execution_count": null,
   "id": "8b6e9fc9",
   "metadata": {},
   "outputs": [],
   "source": []
  }
 ],
 "metadata": {
  "kernelspec": {
   "display_name": "Python 3",
   "language": "python",
   "name": "python3"
  },
  "language_info": {
   "codemirror_mode": {
    "name": "ipython",
    "version": 3
   },
   "file_extension": ".py",
   "mimetype": "text/x-python",
   "name": "python",
   "nbconvert_exporter": "python",
   "pygments_lexer": "ipython3",
   "version": "3.6.9"
  }
 },
 "nbformat": 4,
 "nbformat_minor": 5
}
